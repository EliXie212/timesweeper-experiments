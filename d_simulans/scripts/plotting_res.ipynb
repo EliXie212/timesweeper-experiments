{
 "cells": [
  {
   "cell_type": "code",
   "execution_count": 1,
   "metadata": {},
   "outputs": [
    {
     "ename": "ModuleNotFoundError",
     "evalue": "No module named 'pandas'",
     "output_type": "error",
     "traceback": [
      "\u001b[0;31m---------------------------------------------------------------------------\u001b[0m",
      "\u001b[0;31mModuleNotFoundError\u001b[0m                       Traceback (most recent call last)",
      "\u001b[1;32m/pine/scr/l/s/lswhiteh/timesweeper-experiments/d_simulans/scripts/plotting_res.ipynb Cell 1'\u001b[0m in \u001b[0;36m<cell line: 1>\u001b[0;34m()\u001b[0m\n\u001b[0;32m----> <a href='vscode-notebook-cell://ssh-remote%2Blongleaf.unc.edu/pine/scr/l/s/lswhiteh/timesweeper-experiments/d_simulans/scripts/plotting_res.ipynb#ch0000000vscode-remote?line=0'>1</a>\u001b[0m \u001b[39mimport\u001b[39;00m \u001b[39mpandas\u001b[39;00m \u001b[39mas\u001b[39;00m \u001b[39mpd\u001b[39;00m\n\u001b[1;32m      <a href='vscode-notebook-cell://ssh-remote%2Blongleaf.unc.edu/pine/scr/l/s/lswhiteh/timesweeper-experiments/d_simulans/scripts/plotting_res.ipynb#ch0000000vscode-remote?line=1'>2</a>\u001b[0m \u001b[39mimport\u001b[39;00m \u001b[39mmatplotlib\u001b[39;00m\u001b[39m.\u001b[39;00m\u001b[39mpyplot\u001b[39;00m \u001b[39mas\u001b[39;00m \u001b[39mplt\u001b[39;00m\n",
      "\u001b[0;31mModuleNotFoundError\u001b[0m: No module named 'pandas'"
     ]
    }
   ],
   "source": [
    "import pandas as pd\n",
    "import matplotlib.pyplot as plt"
   ]
  },
  {
   "cell_type": "code",
   "execution_count": null,
   "metadata": {},
   "outputs": [],
   "source": [
    "df = pd.read_csv(\n",
    "    \"summarized_hits.txt\",\n",
    "    header=None,\n",
    "    sep=\"\\t\",\n",
    "    names=[\"chrom\", \"bp\", \"ts_score\", \"fet_score\", \"freqs\"],\n",
    ").sort_values(\"ts_score\")"
   ]
  },
  {
   "cell_type": "code",
   "execution_count": null,
   "metadata": {},
   "outputs": [],
   "source": [
    "fig, axes = plt.subplots(1, 1)\n",
    "\n",
    "axes.set_title(\"AFT Sweep Score vs FET\")\n",
    "\n",
    "\n",
    "\n",
    "fig.set_size_inches(10, 5)"
   ]
  }
 ],
 "metadata": {
  "interpreter": {
   "hash": "665044eae376c8d1ee6b10740d28f30c7e071430546d8cf5033148061d895919"
  },
  "kernelspec": {
   "display_name": "Python 3.10.4 ('jupyter')",
   "language": "python",
   "name": "python3"
  },
  "language_info": {
   "name": "python",
   "version": "3.10.4"
  },
  "orig_nbformat": 4
 },
 "nbformat": 4,
 "nbformat_minor": 2
}
