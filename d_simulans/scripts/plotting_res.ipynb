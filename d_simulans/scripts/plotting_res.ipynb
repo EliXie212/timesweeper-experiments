{
 "cells": [
  {
   "cell_type": "code",
   "execution_count": null,
   "metadata": {},
   "outputs": [
    {
     "ename": "",
     "evalue": "",
     "output_type": "error",
     "traceback": [
      "\u001b[1;31mJupyter cannot be started. Error attempting to locate jupyter: 'Kernelspec' module not installed in the selected interpreter (/nas/longleaf/home/lswhiteh/.conda/envs/blinx/bin/python).\n",
      " Please re-install or update 'jupyter'.\n",
      "Run the following command to install 'jupyter and notebook' into the Python environment. \n",
      "Command: 'python -m pip install jupyter notebook -U\n",
      "or\n",
      "conda install jupyter notebook -U'\n",
      "Click <a href='https://aka.ms/installJupyterForVSCode'>here</a> for more info."
     ]
    }
   ],
   "source": [
    "import pandas as pd\n",
    "import matplotlib.pyplot as plt"
   ]
  },
  {
   "cell_type": "code",
   "execution_count": null,
   "metadata": {},
   "outputs": [],
   "source": [
    "df = pd.read_csv(\n",
    "    \"summarized_hits.txt\",\n",
    "    header=None,\n",
    "    sep=\"\\t\",\n",
    "    names=[\"chrom\", \"bp\", \"ts_score\", \"fet_score\", \"freqs\"],\n",
    ").sort_values(\"ts_score\")"
   ]
  },
  {
   "cell_type": "code",
   "execution_count": null,
   "metadata": {},
   "outputs": [],
   "source": [
    "fig, axes = plt.subplots(1, 1)\n",
    "\n",
    "axes.set_title(\"AFT Sweep Score vs FET\")\n",
    "\n",
    "\n",
    "\n",
    "fig.set_size_inches(10, 5)"
   ]
  }
 ],
 "metadata": {
  "interpreter": {
   "hash": "0734978750b2576bfa2f5e113bafc0e09c75ef5d2cefe7134ec1f1d23fc93b95"
  },
  "kernelspec": {
   "display_name": "Python 3.6.13 ('blinx')",
   "language": "python",
   "name": "python3"
  },
  "language_info": {
   "name": "python",
   "version": "3.6.13"
  },
  "orig_nbformat": 4
 },
 "nbformat": 4,
 "nbformat_minor": 2
}
